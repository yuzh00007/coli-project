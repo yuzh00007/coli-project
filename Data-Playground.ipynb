{
 "cells": [
  {
   "cell_type": "code",
   "execution_count": 1,
   "id": "e5bdefd3-ae62-4948-b4ec-66a5591efa6f",
   "metadata": {},
   "outputs": [],
   "source": [
    "%load_ext autoreload\n",
    "%autoreload 2"
   ]
  },
  {
   "cell_type": "code",
   "execution_count": 2,
   "id": "4ded506b-0e16-4010-ac31-cfba0811c907",
   "metadata": {},
   "outputs": [
    {
     "name": "stderr",
     "output_type": "stream",
     "text": [
      "/home/yzhang/.virtualenvs/coli_project/lib/python3.9/site-packages/tqdm/auto.py:21: TqdmWarning: IProgress not found. Please update jupyter and ipywidgets. See https://ipywidgets.readthedocs.io/en/stable/user_install.html\n",
      "  from .autonotebook import tqdm as notebook_tqdm\n"
     ]
    }
   ],
   "source": [
    "import pandas as pd\n",
    "from datasets import load_dataset"
   ]
  },
  {
   "cell_type": "code",
   "execution_count": 3,
   "id": "4c8156cb-6bb9-4133-8df2-788b50b758f6",
   "metadata": {},
   "outputs": [],
   "source": [
    "# there is an issue with the huggingface load script for this dataset\n",
    "# have to manually download the json data file and load that way\n",
    "hc3 = load_dataset(\"json\", data_files=\"data/hc3/all.jsonl\")"
   ]
  },
  {
   "cell_type": "code",
   "execution_count": 4,
   "id": "ad1cccd6-c2c0-4d43-bd88-ffb297cca109",
   "metadata": {},
   "outputs": [
    {
     "data": {
      "text/plain": [
       "DatasetDict({\n",
       "    train: Dataset({\n",
       "        features: ['question', 'human_answers', 'chatgpt_answers', 'index', 'source'],\n",
       "        num_rows: 24322\n",
       "    })\n",
       "})"
      ]
     },
     "execution_count": 4,
     "metadata": {},
     "output_type": "execute_result"
    }
   ],
   "source": [
    "hc3"
   ]
  },
  {
   "cell_type": "code",
   "execution_count": 5,
   "id": "c126e43e-6ba7-4786-8675-75843bd4c35b",
   "metadata": {},
   "outputs": [],
   "source": [
    "hc3 = hc3[\"train\"]"
   ]
  },
  {
   "cell_type": "code",
   "execution_count": 6,
   "id": "941a4768-691d-428f-a1e8-ac466763c587",
   "metadata": {},
   "outputs": [
    {
     "data": {
      "text/plain": [
       "{'finance', 'medicine', 'open_qa', 'reddit_eli5', 'wiki_csai'}"
      ]
     },
     "execution_count": 6,
     "metadata": {},
     "output_type": "execute_result"
    }
   ],
   "source": [
    "set(hc3[\"source\"])"
   ]
  },
  {
   "cell_type": "code",
   "execution_count": 7,
   "id": "7cf9867e-3545-4dc9-a550-e900d0f81450",
   "metadata": {},
   "outputs": [
    {
     "data": {
      "text/html": [
       "<div>\n",
       "<style scoped>\n",
       "    .dataframe tbody tr th:only-of-type {\n",
       "        vertical-align: middle;\n",
       "    }\n",
       "\n",
       "    .dataframe tbody tr th {\n",
       "        vertical-align: top;\n",
       "    }\n",
       "\n",
       "    .dataframe thead th {\n",
       "        text-align: right;\n",
       "    }\n",
       "</style>\n",
       "<table border=\"1\" class=\"dataframe\">\n",
       "  <thead>\n",
       "    <tr style=\"text-align: right;\">\n",
       "      <th></th>\n",
       "      <th>question</th>\n",
       "      <th>human_answers</th>\n",
       "      <th>chatgpt_answers</th>\n",
       "      <th>index</th>\n",
       "      <th>source</th>\n",
       "    </tr>\n",
       "  </thead>\n",
       "  <tbody>\n",
       "    <tr>\n",
       "      <th>0</th>\n",
       "      <td>Historical P/E ratios of small-cap vs. large-c...</td>\n",
       "      <td>[There is most likely an error in the WSJ's da...</td>\n",
       "      <td>[Historical price-to-earnings (P/E) ratios for...</td>\n",
       "      <td>None</td>\n",
       "      <td>finance</td>\n",
       "    </tr>\n",
       "    <tr>\n",
       "      <th>1</th>\n",
       "      <td>Should you co-sign a personal loan for a frien...</td>\n",
       "      <td>[I know this question has a lot of answers alr...</td>\n",
       "      <td>[Co-signing a personal loan for a friend or fa...</td>\n",
       "      <td>None</td>\n",
       "      <td>finance</td>\n",
       "    </tr>\n",
       "    <tr>\n",
       "      <th>2</th>\n",
       "      <td>Should I avoid credit card use to improve our ...</td>\n",
       "      <td>[If you pay it off before the cycle closes it ...</td>\n",
       "      <td>[It can be a good idea to avoid using credit c...</td>\n",
       "      <td>None</td>\n",
       "      <td>finance</td>\n",
       "    </tr>\n",
       "    <tr>\n",
       "      <th>3</th>\n",
       "      <td>Difference between 'split and redemption' of s...</td>\n",
       "      <td>[It is the first time I encounter redemption p...</td>\n",
       "      <td>[Share split and redemption are two different ...</td>\n",
       "      <td>None</td>\n",
       "      <td>finance</td>\n",
       "    </tr>\n",
       "    <tr>\n",
       "      <th>4</th>\n",
       "      <td>Pros &amp; cons of investing in gold vs. platinum?</td>\n",
       "      <td>[Why Investors Buy Platinum is an old (1995) a...</td>\n",
       "      <td>[Gold and platinum are both precious metals th...</td>\n",
       "      <td>None</td>\n",
       "      <td>finance</td>\n",
       "    </tr>\n",
       "  </tbody>\n",
       "</table>\n",
       "</div>"
      ],
      "text/plain": [
       "                                            question  \\\n",
       "0  Historical P/E ratios of small-cap vs. large-c...   \n",
       "1  Should you co-sign a personal loan for a frien...   \n",
       "2  Should I avoid credit card use to improve our ...   \n",
       "3  Difference between 'split and redemption' of s...   \n",
       "4     Pros & cons of investing in gold vs. platinum?   \n",
       "\n",
       "                                       human_answers  \\\n",
       "0  [There is most likely an error in the WSJ's da...   \n",
       "1  [I know this question has a lot of answers alr...   \n",
       "2  [If you pay it off before the cycle closes it ...   \n",
       "3  [It is the first time I encounter redemption p...   \n",
       "4  [Why Investors Buy Platinum is an old (1995) a...   \n",
       "\n",
       "                                     chatgpt_answers index   source  \n",
       "0  [Historical price-to-earnings (P/E) ratios for...  None  finance  \n",
       "1  [Co-signing a personal loan for a friend or fa...  None  finance  \n",
       "2  [It can be a good idea to avoid using credit c...  None  finance  \n",
       "3  [Share split and redemption are two different ...  None  finance  \n",
       "4  [Gold and platinum are both precious metals th...  None  finance  "
      ]
     },
     "execution_count": 7,
     "metadata": {},
     "output_type": "execute_result"
    }
   ],
   "source": [
    "pd.DataFrame(hc3.filter(lambda x: x[\"source\"] == 'finance')[:5])"
   ]
  },
  {
   "cell_type": "code",
   "execution_count": 8,
   "id": "11afe796-da8e-432b-ae75-23cef74a43cd",
   "metadata": {},
   "outputs": [
    {
     "data": {
      "text/html": [
       "<div>\n",
       "<style scoped>\n",
       "    .dataframe tbody tr th:only-of-type {\n",
       "        vertical-align: middle;\n",
       "    }\n",
       "\n",
       "    .dataframe tbody tr th {\n",
       "        vertical-align: top;\n",
       "    }\n",
       "\n",
       "    .dataframe thead th {\n",
       "        text-align: right;\n",
       "    }\n",
       "</style>\n",
       "<table border=\"1\" class=\"dataframe\">\n",
       "  <thead>\n",
       "    <tr style=\"text-align: right;\">\n",
       "      <th></th>\n",
       "      <th>question</th>\n",
       "      <th>human_answers</th>\n",
       "      <th>chatgpt_answers</th>\n",
       "      <th>index</th>\n",
       "      <th>source</th>\n",
       "    </tr>\n",
       "  </thead>\n",
       "  <tbody>\n",
       "    <tr>\n",
       "      <th>0</th>\n",
       "      <td>Why is every book I hear about a \" NY Times # ...</td>\n",
       "      <td>[Basically there are many categories of \" Best...</td>\n",
       "      <td>[There are many different best seller lists th...</td>\n",
       "      <td>None</td>\n",
       "      <td>reddit_eli5</td>\n",
       "    </tr>\n",
       "    <tr>\n",
       "      <th>1</th>\n",
       "      <td>If salt is so bad for cars , why do we use it ...</td>\n",
       "      <td>[salt is good for not dying in car crashes and...</td>\n",
       "      <td>[Salt is used on roads to help melt ice and sn...</td>\n",
       "      <td>None</td>\n",
       "      <td>reddit_eli5</td>\n",
       "    </tr>\n",
       "    <tr>\n",
       "      <th>2</th>\n",
       "      <td>Why do we still have SD TV channels when HD lo...</td>\n",
       "      <td>[The way it works is that old TV stations got ...</td>\n",
       "      <td>[There are a few reasons why we still have SD ...</td>\n",
       "      <td>None</td>\n",
       "      <td>reddit_eli5</td>\n",
       "    </tr>\n",
       "    <tr>\n",
       "      <th>3</th>\n",
       "      <td>Why has nobody assassinated Kim Jong - un He i...</td>\n",
       "      <td>[You ca n't just go around assassinating the l...</td>\n",
       "      <td>[It is generally not acceptable or ethical to ...</td>\n",
       "      <td>None</td>\n",
       "      <td>reddit_eli5</td>\n",
       "    </tr>\n",
       "    <tr>\n",
       "      <th>4</th>\n",
       "      <td>How was airplane technology able to advance so...</td>\n",
       "      <td>[Wanting to kill the shit out of Germans drive...</td>\n",
       "      <td>[After the Wright Brothers made the first powe...</td>\n",
       "      <td>None</td>\n",
       "      <td>reddit_eli5</td>\n",
       "    </tr>\n",
       "  </tbody>\n",
       "</table>\n",
       "</div>"
      ],
      "text/plain": [
       "                                            question  \\\n",
       "0  Why is every book I hear about a \" NY Times # ...   \n",
       "1  If salt is so bad for cars , why do we use it ...   \n",
       "2  Why do we still have SD TV channels when HD lo...   \n",
       "3  Why has nobody assassinated Kim Jong - un He i...   \n",
       "4  How was airplane technology able to advance so...   \n",
       "\n",
       "                                       human_answers  \\\n",
       "0  [Basically there are many categories of \" Best...   \n",
       "1  [salt is good for not dying in car crashes and...   \n",
       "2  [The way it works is that old TV stations got ...   \n",
       "3  [You ca n't just go around assassinating the l...   \n",
       "4  [Wanting to kill the shit out of Germans drive...   \n",
       "\n",
       "                                     chatgpt_answers index       source  \n",
       "0  [There are many different best seller lists th...  None  reddit_eli5  \n",
       "1  [Salt is used on roads to help melt ice and sn...  None  reddit_eli5  \n",
       "2  [There are a few reasons why we still have SD ...  None  reddit_eli5  \n",
       "3  [It is generally not acceptable or ethical to ...  None  reddit_eli5  \n",
       "4  [After the Wright Brothers made the first powe...  None  reddit_eli5  "
      ]
     },
     "execution_count": 8,
     "metadata": {},
     "output_type": "execute_result"
    }
   ],
   "source": [
    "pd.DataFrame(hc3.filter(lambda x: x[\"source\"] == 'reddit_eli5')[:5])"
   ]
  },
  {
   "cell_type": "code",
   "execution_count": 9,
   "id": "6e5e0c6f-cff7-4b48-aad2-d2b6e5f513f7",
   "metadata": {},
   "outputs": [
    {
     "data": {
      "text/html": [
       "<div>\n",
       "<style scoped>\n",
       "    .dataframe tbody tr th:only-of-type {\n",
       "        vertical-align: middle;\n",
       "    }\n",
       "\n",
       "    .dataframe tbody tr th {\n",
       "        vertical-align: top;\n",
       "    }\n",
       "\n",
       "    .dataframe thead th {\n",
       "        text-align: right;\n",
       "    }\n",
       "</style>\n",
       "<table border=\"1\" class=\"dataframe\">\n",
       "  <thead>\n",
       "    <tr style=\"text-align: right;\">\n",
       "      <th></th>\n",
       "      <th>question</th>\n",
       "      <th>human_answers</th>\n",
       "      <th>chatgpt_answers</th>\n",
       "      <th>index</th>\n",
       "      <th>source</th>\n",
       "    </tr>\n",
       "  </thead>\n",
       "  <tbody>\n",
       "    <tr>\n",
       "      <th>0</th>\n",
       "      <td>what composer used sound mass</td>\n",
       "      <td>[Composers and works include Barbara Kolb , Pa...</td>\n",
       "      <td>[Sound mass is a term used to describe a type ...</td>\n",
       "      <td>None</td>\n",
       "      <td>open_qa</td>\n",
       "    </tr>\n",
       "    <tr>\n",
       "      <th>1</th>\n",
       "      <td>where did the persian war take place</td>\n",
       "      <td>[The Greco-Persian Wars (also often called the...</td>\n",
       "      <td>[The Persian Wars were a series of conflicts f...</td>\n",
       "      <td>None</td>\n",
       "      <td>open_qa</td>\n",
       "    </tr>\n",
       "    <tr>\n",
       "      <th>2</th>\n",
       "      <td>what are add ons</td>\n",
       "      <td>[Plug-in (computing) , a piece of software whi...</td>\n",
       "      <td>[Add-ons, also known as extensions or plug-ins...</td>\n",
       "      <td>None</td>\n",
       "      <td>open_qa</td>\n",
       "    </tr>\n",
       "    <tr>\n",
       "      <th>3</th>\n",
       "      <td>how does a dredge work?</td>\n",
       "      <td>[Dredging is an excavation activity or operati...</td>\n",
       "      <td>[A dredge is a piece of equipment that is used...</td>\n",
       "      <td>None</td>\n",
       "      <td>open_qa</td>\n",
       "    </tr>\n",
       "    <tr>\n",
       "      <th>4</th>\n",
       "      <td>what classes are considered humanities</td>\n",
       "      <td>[The humanities are academic disciplines that ...</td>\n",
       "      <td>[Humanities are academic disciplines that stud...</td>\n",
       "      <td>None</td>\n",
       "      <td>open_qa</td>\n",
       "    </tr>\n",
       "  </tbody>\n",
       "</table>\n",
       "</div>"
      ],
      "text/plain": [
       "                                 question  \\\n",
       "0           what composer used sound mass   \n",
       "1    where did the persian war take place   \n",
       "2                        what are add ons   \n",
       "3                 how does a dredge work?   \n",
       "4  what classes are considered humanities   \n",
       "\n",
       "                                       human_answers  \\\n",
       "0  [Composers and works include Barbara Kolb , Pa...   \n",
       "1  [The Greco-Persian Wars (also often called the...   \n",
       "2  [Plug-in (computing) , a piece of software whi...   \n",
       "3  [Dredging is an excavation activity or operati...   \n",
       "4  [The humanities are academic disciplines that ...   \n",
       "\n",
       "                                     chatgpt_answers index   source  \n",
       "0  [Sound mass is a term used to describe a type ...  None  open_qa  \n",
       "1  [The Persian Wars were a series of conflicts f...  None  open_qa  \n",
       "2  [Add-ons, also known as extensions or plug-ins...  None  open_qa  \n",
       "3  [A dredge is a piece of equipment that is used...  None  open_qa  \n",
       "4  [Humanities are academic disciplines that stud...  None  open_qa  "
      ]
     },
     "execution_count": 9,
     "metadata": {},
     "output_type": "execute_result"
    }
   ],
   "source": [
    "pd.DataFrame(hc3.filter(lambda x: x[\"source\"] == 'open_qa')[:5])"
   ]
  },
  {
   "cell_type": "code",
   "execution_count": 10,
   "id": "651aa7e5-3f90-4199-865f-8f0932142038",
   "metadata": {},
   "outputs": [
    {
     "data": {
      "text/plain": [
       "['Why is every book I hear about a \" NY Times # 1 Best Seller \" ? ELI5 : Why is every book I hear about a \" NY Times # 1 Best Seller \" ? Should n\\'t there only be one \" # 1 \" best seller ? Please explain like I\\'m five.',\n",
       " \"If salt is so bad for cars , why do we use it on the roads ? As the title states , why do we use it ? is there no other option or what ? Please explain like I'm five.\",\n",
       " \"Why do we still have SD TV channels when HD looks like SD on an old TV ? Could n't we just have the HD version of the channels & delete the SD ones ? Please explain like I'm five.\",\n",
       " \"Why has nobody assassinated Kim Jong - un He is such a pest and nuisance to basically the entire world except for China . Why has n't anyone had him assassinated yet ? Please explain like I'm five.\",\n",
       " \"How was airplane technology able to advance so quickly after the Wright Brothers ' first flight ? Mainly interested in how aviation was able to be deployed on a large scale during WWI . Please explain like I'm five.\"]"
      ]
     },
     "execution_count": 10,
     "metadata": {},
     "output_type": "execute_result"
    }
   ],
   "source": [
    "hc3.filter(lambda x: x[\"source\"] == 'reddit_eli5')[:5][\"question\"]"
   ]
  },
  {
   "cell_type": "code",
   "execution_count": 11,
   "id": "0c74194a-ec40-4f26-a65c-4637ddac3169",
   "metadata": {},
   "outputs": [
    {
     "data": {
      "text/plain": [
       "[\"If you 're hearing about it , it 's because it was a very good or very well - publicized book ( or both ) , and almost every good or well - publicized book will be # 1 on the NY Times bestseller list for at least a little bit . Kindof like how almost every big or good movies are # 1 at the box office on their opening weekend .\",\n",
       " 'In Minnesota and North Dakota , they tend to use sand , not salt . In these states , though , it is cold enough that the salt can not actually melt the snow , and so it refreezes and you end up with black ice on the roads , which is counterproductive . In other states whether there is snow but not so cold , wet asphalt is better than gritty snow for traction and so salt is favored for safety . Most people who live in states where salt is used , and by the way also in coastal cities , know that washing the car a couple times a week is critical .',\n",
       " \"HD does n't look like anything at all on an SD TV . An old SD television ca n't even process the HD signal . We still have SD channels because there are still SD televisions out there .\",\n",
       " \"It would n't really do any good . It 's not like North Korea would instantly convert to freedom - loving democracy if he died .\",\n",
       " 'This is a frequent phenomenon with technology : something is considered very hard or even impossible for a long , long time , and then one day , somebody figures it out . That opens a whole FLOODGATE of discovery leading to discovery , and the technology leaps forward quickly . Eventually , those chains of discovery start to play out , and the rate of advancement slows down , and may even come to a halt , perhaps starting up again years later when somebody discovers something new . We saw the same phenomenon with the building of the first transistor in 1947 . The * theory * of transistors had actually been known since the early 20th century , but nobody had figured out a way to actually build one . That led to an explosion in electronics , and when somebody figured out how to put a shitload of teensy transistors on a silicon wafer , the explosion exploded .']"
      ]
     },
     "execution_count": 11,
     "metadata": {},
     "output_type": "execute_result"
    }
   ],
   "source": [
    "# there are multiple responses per human_answer tab - just take a look at one of them\n",
    "[x[1] for x in hc3.filter(lambda x: x[\"source\"] == 'reddit_eli5')[:5][\"human_answers\"]]"
   ]
  },
  {
   "cell_type": "code",
   "execution_count": 12,
   "id": "f66b3f95-7849-49ae-abf2-3decfdc331f8",
   "metadata": {},
   "outputs": [
    {
     "data": {
      "text/plain": [
       "[['There are many different best seller lists that are published by various organizations, and the New York Times is just one of them. The New York Times best seller list is a weekly list that ranks the best-selling books in the United States based on sales data from a number of different retailers. The list is published in the New York Times newspaper and is widely considered to be one of the most influential best seller lists in the book industry. \\nIt\\'s important to note that the New York Times best seller list is not the only best seller list out there, and there are many other lists that rank the top-selling books in different categories or in different countries. So it\\'s possible that a book could be a best seller on one list but not on another. \\nAdditionally, the term \"best seller\" is often used more broadly to refer to any book that is selling well, regardless of whether it is on a specific best seller list or not. So it\\'s possible that you may hear about a book being a \"best seller\" even if it is not specifically ranked as a number one best seller on the New York Times list or any other list.'],\n",
       " [\"Salt is used on roads to help melt ice and snow and improve traction during the winter months. When it's cold outside, water can freeze on the roads and make them very slippery, which can be dangerous for cars and people. Salt helps to melt the ice and snow by lowering the freezing point of water, which means that it can help keep the roads clear and safe to travel on. \\nThere are other options for melting ice and snow on roads, such as using chemicals like calcium chloride or magnesium chloride, or using mechanical methods like plows or sand. However, salt is often the most effective and affordable option for many communities, especially when it's used in combination with other methods. \\nIt's important to note that while salt can be helpful for making roads safer during the winter, it can also have negative effects on the environment and on the cars themselves. Salt can cause corrosion on metal surfaces, including cars, and it can also harm plants and animals if it washes into nearby waterways. However, despite these potential downsides, many communities continue to use salt as a way to keep roads clear and safe during the winter.\"],\n",
       " [\"There are a few reasons why we still have SD (standard definition) TV channels: \\n1. Some people still use older TVs that are not compatible with HD (high definition) signals. These TVs can only display SD channels, so if we only had HD channels, those people wouldn't be able to watch TV. \\n2. HD channels take up more bandwidth than SD channels, so it's not possible to have as many HD channels as we have SD channels. This means that if we only had HD channels, some channels might not be available. \\n3. HD channels also require more expensive equipment to produce, so some TV stations might not be able to afford to upgrade to HD. \\nOverall, it's important to have both SD and HD channels so that everyone can watch TV, regardless of what kind of TV they have or how much money they have.\"],\n",
       " ['It is generally not acceptable or ethical to advocate for or condone the assassination of any individual, regardless of their actions or beliefs. There are also practical considerations at play in this situation. \\nFirst and foremost, it is important to remember that assassination is a violent and extreme act that can have serious consequences, both for the person being targeted and for those around them. It can also lead to further conflict and instability in the region. \\nAdditionally, the North Korean government is known for being highly secretive and heavily guarded, making it difficult for outsiders to carry out such an action. There may also be legal and diplomatic implications for any country or individual that attempts to assassinate the leader of another sovereign state. \\nIt is important to seek peaceful and diplomatic solutions to conflicts and differences, rather than resorting to violence and assassination.'],\n",
       " ['After the Wright Brothers made the first powered flight in 1903, people all around the world became interested in building and flying airplanes. Many people started working on designing and building airplanes, and as a result, airplane technology began to advance quickly. \\nOne reason for this rapid advancement was the fact that airplanes were very useful for a number of different purposes. For example, airplanes were used for transportation, for carrying mail, for crop dusting, and for military purposes. This meant that there was a lot of demand for airplanes, which in turn encouraged more people to work on developing and improving airplane technology. \\nDuring World War I, airplanes became even more important because they were used for fighting in the war. This led to even more rapid development of airplane technology as people tried to build airplanes that were faster, more maneuverable, and more durable. \\nSo, in short, the reason that airplane technology was able to advance so quickly was because there was a lot of interest in airplanes and a lot of people working on developing and improving them. This was especially true during World War I, when the need for effective military airplanes was particularly pressing.']]"
      ]
     },
     "execution_count": 12,
     "metadata": {},
     "output_type": "execute_result"
    }
   ],
   "source": [
    "hc3.filter(lambda x: x[\"source\"] == 'reddit_eli5')[:5][\"chatgpt_answers\"]"
   ]
  },
  {
   "cell_type": "code",
   "execution_count": null,
   "id": "33270cb4-494c-4f14-be2a-1761ba4733f9",
   "metadata": {},
   "outputs": [],
   "source": []
  }
 ],
 "metadata": {
  "kernelspec": {
   "display_name": "Python 3 (ipykernel)",
   "language": "python",
   "name": "python3"
  },
  "language_info": {
   "codemirror_mode": {
    "name": "ipython",
    "version": 3
   },
   "file_extension": ".py",
   "mimetype": "text/x-python",
   "name": "python",
   "nbconvert_exporter": "python",
   "pygments_lexer": "ipython3",
   "version": "3.9.2"
  }
 },
 "nbformat": 4,
 "nbformat_minor": 5
}
